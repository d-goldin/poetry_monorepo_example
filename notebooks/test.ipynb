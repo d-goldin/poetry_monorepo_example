{
 "cells": [
  {
   "cell_type": "code",
   "execution_count": 1,
   "metadata": {},
   "outputs": [],
   "source": [
    "import testlib1"
   ]
  },
  {
   "cell_type": "code",
   "execution_count": 2,
   "metadata": {},
   "outputs": [
    {
     "data": {
      "text/plain": [
       "array([[468, 374, 711, 325, 173, 997, 200, 926,  85, 336],\n",
       "       [ 22, 578,  49, 807, 687, 438, 773, 564, 775, 844],\n",
       "       [129, 409, 883, 586, 444,  52, 844, 513, 937, 698],\n",
       "       [714, 200, 420, 242, 259, 410, 907, 977, 700, 752],\n",
       "       [957, 742,  30, 432, 464, 911, 954, 569, 631, 670],\n",
       "       [238, 639, 860, 644,  14, 480, 326, 983, 306, 399],\n",
       "       [198, 767, 287, 135, 975, 191, 355, 978, 574, 571],\n",
       "       [394, 390, 328, 341, 590, 873, 469, 209,  68,  36],\n",
       "       [308, 332, 258, 408, 480,  38, 387, 378, 310, 276],\n",
       "       [712, 989, 925, 768, 223, 783,  95, 778, 152, 527]])"
      ]
     },
     "execution_count": 2,
     "metadata": {},
     "output_type": "execute_result"
    }
   ],
   "source": [
    "testlib1.give_me_numbers()"
   ]
  }
 ],
 "metadata": {
  "kernelspec": {
   "display_name": "Python 3",
   "language": "python",
   "name": "python3"
  },
  "language_info": {
   "codemirror_mode": {
    "name": "ipython",
    "version": 3
   },
   "file_extension": ".py",
   "mimetype": "text/x-python",
   "name": "python",
   "nbconvert_exporter": "python",
   "pygments_lexer": "ipython3",
   "version": "3.8.2"
  }
 },
 "nbformat": 4,
 "nbformat_minor": 4
}
